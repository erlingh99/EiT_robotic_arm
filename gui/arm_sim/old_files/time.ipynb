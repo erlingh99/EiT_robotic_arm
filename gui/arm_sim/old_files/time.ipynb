{
 "cells": [
  {
   "cell_type": "code",
   "execution_count": 11,
   "metadata": {},
   "outputs": [],
   "source": [
    "import numpy as np\n",
    "import roboticstoolbox.robot as robot\n",
    "from inverse_kinematics import inverse_kinematics\n",
    "\n",
    "\n",
    "links = [robot.RevoluteDH(d = 0.2, a = 0, alpha=np.pi/2),\n",
    "         robot.RevoluteDH(d = 0, a = 1/2, alpha= 0),\n",
    "         robot.RevoluteDH(d = 0, a = 1/2, alpha = -np.pi/2),\n",
    "         robot.RevoluteDH(d = 0 , a = 0, alpha= -np.pi/2, offset= -np.pi/2),\n",
    "         robot.RevoluteDH(d = 1/8 , a = 0, alpha=0)]\n",
    "\n",
    "\n",
    "arm_manipulator = robot.DHRobot(links=links, name='EiT arm')\n",
    "\n",
    "q = np.random.random(size=5)*np.pi - np.pi/2\n",
    "# print('angles ground truth:', q)\n",
    "\n",
    "##analytical solution\n",
    "arm_manipulator.q = q\n",
    "Te = arm_manipulator.fkine(arm_manipulator.q)"
   ]
  },
  {
   "cell_type": "code",
   "execution_count": 12,
   "metadata": {},
   "outputs": [
    {
     "name": "stdout",
     "output_type": "stream",
     "text": [
      "571 µs ± 25.6 µs per loop (mean ± std. dev. of 7 runs, 1,000 loops each)\n"
     ]
    }
   ],
   "source": [
    "%timeit inverse_kinematics(Te, arm_manipulator, False)"
   ]
  },
  {
   "cell_type": "code",
   "execution_count": 13,
   "metadata": {},
   "outputs": [
    {
     "name": "stdout",
     "output_type": "stream",
     "text": [
      "7.06 ms ± 970 µs per loop (mean ± std. dev. of 7 runs, 100 loops each)\n"
     ]
    }
   ],
   "source": [
    "##numerical solution\n",
    "%timeit arm_manipulator.ikine_LM(Te)"
   ]
  },
  {
   "cell_type": "code",
   "execution_count": 15,
   "metadata": {},
   "outputs": [
    {
     "name": "stdout",
     "output_type": "stream",
     "text": [
      "analytical is 12.36 times faster than numerical\n"
     ]
    }
   ],
   "source": [
    "print('analytical is', np.round((7.06*10**(-3))/(571*10**(-6)),2), 'times faster than numerical')"
   ]
  }
 ],
 "metadata": {
  "kernelspec": {
   "display_name": "Python 3",
   "language": "python",
   "name": "python3"
  },
  "language_info": {
   "codemirror_mode": {
    "name": "ipython",
    "version": 3
   },
   "file_extension": ".py",
   "mimetype": "text/x-python",
   "name": "python",
   "nbconvert_exporter": "python",
   "pygments_lexer": "ipython3",
   "version": "3.9.16"
  },
  "orig_nbformat": 4,
  "vscode": {
   "interpreter": {
    "hash": "f9f85f796d01129d0dd105a088854619f454435301f6ffec2fea96ecbd9be4ac"
   }
  }
 },
 "nbformat": 4,
 "nbformat_minor": 2
}
